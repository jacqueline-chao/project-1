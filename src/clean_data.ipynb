{
 "cells": [
  {
   "cell_type": "code",
   "execution_count": 1,
   "id": "64d3acd3-2930-4e8b-901a-4b5ba7ee46c2",
   "metadata": {},
   "outputs": [],
   "source": [
    "import pandas as pd\n",
    "import numpy as np"
   ]
  },
  {
   "cell_type": "code",
   "execution_count": 2,
   "id": "59c2d378-2b63-4406-a9bb-cc9be6a33878",
   "metadata": {},
   "outputs": [],
   "source": [
    "file_path_2018 = '../data/2018_data.txt'\n",
    "file_path_2021 = '../data/2021_data.txt'\n",
    "\n",
    "df_2018 = pd.read_csv(file_path_2018, delimiter=',')\n",
    "df_2021 = pd.read_csv(file_path_2021, delimiter=',')"
   ]
  },
  {
   "cell_type": "code",
   "execution_count": 3,
   "id": "2a5152ea-1bec-417c-afc0-2f607d2bad67",
   "metadata": {},
   "outputs": [
    {
     "data": {
      "text/html": [
       "<div>\n",
       "<style scoped>\n",
       "    .dataframe tbody tr th:only-of-type {\n",
       "        vertical-align: middle;\n",
       "    }\n",
       "\n",
       "    .dataframe tbody tr th {\n",
       "        vertical-align: top;\n",
       "    }\n",
       "\n",
       "    .dataframe thead th {\n",
       "        text-align: right;\n",
       "    }\n",
       "</style>\n",
       "<table border=\"1\" class=\"dataframe\">\n",
       "  <thead>\n",
       "    <tr style=\"text-align: right;\">\n",
       "      <th></th>\n",
       "      <th>conmedic</th>\n",
       "      <th>partyid</th>\n",
       "      <th>region</th>\n",
       "      <th>id</th>\n",
       "      <th>age</th>\n",
       "      <th>sex</th>\n",
       "      <th>race</th>\n",
       "      <th>degree</th>\n",
       "    </tr>\n",
       "  </thead>\n",
       "  <tbody>\n",
       "    <tr>\n",
       "      <th>0</th>\n",
       "      <td>.i</td>\n",
       "      <td>5</td>\n",
       "      <td>1</td>\n",
       "      <td>1</td>\n",
       "      <td>43</td>\n",
       "      <td>1</td>\n",
       "      <td>1</td>\n",
       "      <td>2</td>\n",
       "    </tr>\n",
       "    <tr>\n",
       "      <th>1</th>\n",
       "      <td>1</td>\n",
       "      <td>2</td>\n",
       "      <td>1</td>\n",
       "      <td>2</td>\n",
       "      <td>74</td>\n",
       "      <td>2</td>\n",
       "      <td>1</td>\n",
       "      <td>1</td>\n",
       "    </tr>\n",
       "    <tr>\n",
       "      <th>2</th>\n",
       "      <td>1</td>\n",
       "      <td>4</td>\n",
       "      <td>1</td>\n",
       "      <td>3</td>\n",
       "      <td>42</td>\n",
       "      <td>1</td>\n",
       "      <td>1</td>\n",
       "      <td>3</td>\n",
       "    </tr>\n",
       "    <tr>\n",
       "      <th>3</th>\n",
       "      <td>3</td>\n",
       "      <td>2</td>\n",
       "      <td>1</td>\n",
       "      <td>4</td>\n",
       "      <td>63</td>\n",
       "      <td>2</td>\n",
       "      <td>1</td>\n",
       "      <td>3</td>\n",
       "    </tr>\n",
       "    <tr>\n",
       "      <th>4</th>\n",
       "      <td>1</td>\n",
       "      <td>6</td>\n",
       "      <td>1</td>\n",
       "      <td>5</td>\n",
       "      <td>71</td>\n",
       "      <td>1</td>\n",
       "      <td>2</td>\n",
       "      <td>4</td>\n",
       "    </tr>\n",
       "  </tbody>\n",
       "</table>\n",
       "</div>"
      ],
      "text/plain": [
       "  conmedic partyid  region  id age  sex  race  degree\n",
       "0       .i       5       1   1  43    1     1       2\n",
       "1        1       2       1   2  74    2     1       1\n",
       "2        1       4       1   3  42    1     1       3\n",
       "3        3       2       1   4  63    2     1       3\n",
       "4        1       6       1   5  71    1     2       4"
      ]
     },
     "execution_count": 3,
     "metadata": {},
     "output_type": "execute_result"
    }
   ],
   "source": [
    "df_2018.head()"
   ]
  },
  {
   "cell_type": "code",
   "execution_count": 4,
   "id": "479f2994-074c-4cdc-98f8-27d1cd34ffcc",
   "metadata": {},
   "outputs": [
    {
     "data": {
      "text/plain": [
       "(2348, 8)"
      ]
     },
     "execution_count": 4,
     "metadata": {},
     "output_type": "execute_result"
    }
   ],
   "source": [
    "df_2018.shape"
   ]
  },
  {
   "cell_type": "code",
   "execution_count": 5,
   "id": "8495fc02-e1cb-48f7-b1df-709f842654e8",
   "metadata": {},
   "outputs": [
    {
     "data": {
      "text/html": [
       "<div>\n",
       "<style scoped>\n",
       "    .dataframe tbody tr th:only-of-type {\n",
       "        vertical-align: middle;\n",
       "    }\n",
       "\n",
       "    .dataframe tbody tr th {\n",
       "        vertical-align: top;\n",
       "    }\n",
       "\n",
       "    .dataframe thead th {\n",
       "        text-align: right;\n",
       "    }\n",
       "</style>\n",
       "<table border=\"1\" class=\"dataframe\">\n",
       "  <thead>\n",
       "    <tr style=\"text-align: right;\">\n",
       "      <th></th>\n",
       "      <th>conmedic</th>\n",
       "      <th>partyid</th>\n",
       "      <th>region</th>\n",
       "      <th>id</th>\n",
       "      <th>age</th>\n",
       "      <th>sex</th>\n",
       "      <th>race</th>\n",
       "      <th>degree</th>\n",
       "    </tr>\n",
       "  </thead>\n",
       "  <tbody>\n",
       "    <tr>\n",
       "      <th>0</th>\n",
       "      <td>1</td>\n",
       "      <td>3</td>\n",
       "      <td>1</td>\n",
       "      <td>1</td>\n",
       "      <td>65</td>\n",
       "      <td>2</td>\n",
       "      <td>1</td>\n",
       "      <td>1</td>\n",
       "    </tr>\n",
       "    <tr>\n",
       "      <th>1</th>\n",
       "      <td>1</td>\n",
       "      <td>2</td>\n",
       "      <td>1</td>\n",
       "      <td>2</td>\n",
       "      <td>60</td>\n",
       "      <td>1</td>\n",
       "      <td>1</td>\n",
       "      <td>3</td>\n",
       "    </tr>\n",
       "    <tr>\n",
       "      <th>2</th>\n",
       "      <td>.i</td>\n",
       "      <td>0</td>\n",
       "      <td>2</td>\n",
       "      <td>3</td>\n",
       "      <td>.n</td>\n",
       "      <td>.n</td>\n",
       "      <td>1</td>\n",
       "      <td>0</td>\n",
       "    </tr>\n",
       "    <tr>\n",
       "      <th>3</th>\n",
       "      <td>2</td>\n",
       "      <td>3</td>\n",
       "      <td>2</td>\n",
       "      <td>4</td>\n",
       "      <td>.n</td>\n",
       "      <td>.n</td>\n",
       "      <td>1</td>\n",
       "      <td>0</td>\n",
       "    </tr>\n",
       "    <tr>\n",
       "      <th>4</th>\n",
       "      <td>.i</td>\n",
       "      <td>0</td>\n",
       "      <td>1</td>\n",
       "      <td>6</td>\n",
       "      <td>.i</td>\n",
       "      <td>2</td>\n",
       "      <td>2</td>\n",
       "      <td>1</td>\n",
       "    </tr>\n",
       "  </tbody>\n",
       "</table>\n",
       "</div>"
      ],
      "text/plain": [
       "  conmedic partyid  region  id age sex race degree\n",
       "0        1       3       1   1  65   2    1      1\n",
       "1        1       2       1   2  60   1    1      3\n",
       "2       .i       0       2   3  .n  .n    1      0\n",
       "3        2       3       2   4  .n  .n    1      0\n",
       "4       .i       0       1   6  .i   2    2      1"
      ]
     },
     "execution_count": 5,
     "metadata": {},
     "output_type": "execute_result"
    }
   ],
   "source": [
    "df_2021.head()"
   ]
  },
  {
   "cell_type": "code",
   "execution_count": 6,
   "id": "97b817e7-a53f-4e15-9f00-36bc761d1282",
   "metadata": {},
   "outputs": [
    {
     "data": {
      "text/plain": [
       "(4032, 8)"
      ]
     },
     "execution_count": 6,
     "metadata": {},
     "output_type": "execute_result"
    }
   ],
   "source": [
    "df_2021.shape"
   ]
  },
  {
   "cell_type": "code",
   "execution_count": 7,
   "id": "f2189d9a-256c-4a3e-a081-38f28ee319a4",
   "metadata": {},
   "outputs": [],
   "source": [
    "# there were more respondents in 2021 than in 2018"
   ]
  },
  {
   "cell_type": "code",
   "execution_count": 8,
   "id": "260bde07-23e6-4562-93ae-86d5ae796319",
   "metadata": {},
   "outputs": [],
   "source": [
    "# clean the 2018 data"
   ]
  },
  {
   "cell_type": "code",
   "execution_count": 9,
   "id": "cd0cf6cb-04f6-4aaf-8a0a-6587e1599a76",
   "metadata": {},
   "outputs": [
    {
     "data": {
      "text/html": [
       "<div>\n",
       "<style scoped>\n",
       "    .dataframe tbody tr th:only-of-type {\n",
       "        vertical-align: middle;\n",
       "    }\n",
       "\n",
       "    .dataframe tbody tr th {\n",
       "        vertical-align: top;\n",
       "    }\n",
       "\n",
       "    .dataframe thead th {\n",
       "        text-align: right;\n",
       "    }\n",
       "</style>\n",
       "<table border=\"1\" class=\"dataframe\">\n",
       "  <thead>\n",
       "    <tr style=\"text-align: right;\">\n",
       "      <th></th>\n",
       "      <th>conmedic</th>\n",
       "      <th>partyid</th>\n",
       "      <th>region</th>\n",
       "      <th>id</th>\n",
       "      <th>age</th>\n",
       "      <th>sex</th>\n",
       "      <th>race</th>\n",
       "      <th>degree</th>\n",
       "    </tr>\n",
       "  </thead>\n",
       "  <tbody>\n",
       "  </tbody>\n",
       "</table>\n",
       "</div>"
      ],
      "text/plain": [
       "Empty DataFrame\n",
       "Columns: [conmedic, partyid, region, id, age, sex, race, degree]\n",
       "Index: []"
      ]
     },
     "execution_count": 9,
     "metadata": {},
     "output_type": "execute_result"
    }
   ],
   "source": [
    "miss_val_codes = ['.d', '.i', '.j', '.m', '.n', '.p', '.q', '.r', '.s', '.u', '.x', '.y', '.z']\n",
    "\n",
    "var = 'id'\n",
    "df_2018[df_2018[var].isin(miss_val_codes)]"
   ]
  },
  {
   "cell_type": "code",
   "execution_count": 10,
   "id": "d6573447-ea6f-481d-8d40-8e674923d618",
   "metadata": {},
   "outputs": [],
   "source": [
    "# no respondents have missing IDs"
   ]
  },
  {
   "cell_type": "code",
   "execution_count": 11,
   "id": "9c0e775a-e78d-45b5-8a91-34b0cac5d660",
   "metadata": {},
   "outputs": [],
   "source": [
    "# the 'conmedic' variable"
   ]
  },
  {
   "cell_type": "code",
   "execution_count": 12,
   "id": "a6bf5686-4142-478a-bac0-2a4946ad12a9",
   "metadata": {},
   "outputs": [
    {
     "data": {
      "text/plain": [
       "['.i', ' 1', ' 3', ' 2', '.n', '.d']"
      ]
     },
     "execution_count": 12,
     "metadata": {},
     "output_type": "execute_result"
    }
   ],
   "source": [
    "var = 'conmedic'\n",
    "df_2018[var].unique().tolist()"
   ]
  },
  {
   "cell_type": "code",
   "execution_count": 13,
   "id": "82b3a24b-ae5a-4cf0-af4c-4a115787991b",
   "metadata": {},
   "outputs": [],
   "source": [
    "# .i: IAP (Inapplicable) - respondent was asked NOT to respond\n",
    "# .n: No answer\n",
    "# .d: Don't know"
   ]
  },
  {
   "cell_type": "code",
   "execution_count": 14,
   "id": "4fff478b-3b38-474a-ad14-965154a57bcd",
   "metadata": {},
   "outputs": [],
   "source": [
    "miss_val_codes = ['.i', '.n', '.d']\n",
    "for code in miss_val_codes:\n",
    "    df_2018[var] = df_2018[var].replace(code, np.nan)"
   ]
  },
  {
   "cell_type": "code",
   "execution_count": 15,
   "id": "addb6067-7989-412e-81a7-5defb5d41693",
   "metadata": {},
   "outputs": [
    {
     "data": {
      "text/plain": [
       "[nan, ' 1', ' 3', ' 2']"
      ]
     },
     "execution_count": 15,
     "metadata": {},
     "output_type": "execute_result"
    }
   ],
   "source": [
    "df_2018[var].unique().tolist()"
   ]
  },
  {
   "cell_type": "code",
   "execution_count": 16,
   "id": "799982e6-f533-47eb-8323-5fd01b28c81f",
   "metadata": {},
   "outputs": [
    {
     "data": {
      "text/plain": [
       " 2    790\n",
       " 1    553\n",
       " 3    211\n",
       "Name: conmedic, dtype: int64"
      ]
     },
     "execution_count": 16,
     "metadata": {},
     "output_type": "execute_result"
    }
   ],
   "source": [
    "df_2018[var].value_counts()"
   ]
  },
  {
   "cell_type": "code",
   "execution_count": 17,
   "id": "3c66cdb2-d6aa-460e-a702-51a6d6fa0cad",
   "metadata": {},
   "outputs": [
    {
     "data": {
      "text/plain": [
       "794"
      ]
     },
     "execution_count": 17,
     "metadata": {},
     "output_type": "execute_result"
    }
   ],
   "source": [
    "# get the # of missing values\n",
    "len(df_2018) - np.sum(df_2018[var].value_counts().values)"
   ]
  },
  {
   "cell_type": "code",
   "execution_count": 18,
   "id": "37f129c3-61fc-4534-92c5-3968bfedcddf",
   "metadata": {},
   "outputs": [],
   "source": [
    "# the 'partyid' variable"
   ]
  },
  {
   "cell_type": "code",
   "execution_count": 19,
   "id": "ea69f5b0-1c48-41f4-8986-506240b6f10c",
   "metadata": {},
   "outputs": [
    {
     "data": {
      "text/plain": [
       "[' 5', ' 2', ' 4', ' 6', ' 0', ' 3', ' 1', '.n', ' 7']"
      ]
     },
     "execution_count": 19,
     "metadata": {},
     "output_type": "execute_result"
    }
   ],
   "source": [
    "var = 'partyid'\n",
    "df_2018[var].unique().tolist()"
   ]
  },
  {
   "cell_type": "code",
   "execution_count": 20,
   "id": "01f10b50-bdf4-4ecd-b469-934a9c1062a2",
   "metadata": {},
   "outputs": [],
   "source": [
    "# .n: No answer"
   ]
  },
  {
   "cell_type": "code",
   "execution_count": 21,
   "id": "df0044c9-a330-485a-b8f8-5402096158a6",
   "metadata": {},
   "outputs": [],
   "source": [
    "df_2018[var] = df_2018[var].replace('.n', np.nan)"
   ]
  },
  {
   "cell_type": "code",
   "execution_count": 22,
   "id": "bdfd8532-f64a-42ba-acc5-bf6c38e0f262",
   "metadata": {},
   "outputs": [
    {
     "data": {
      "text/plain": [
       "[' 5', ' 2', ' 4', ' 6', ' 0', ' 3', ' 1', nan, ' 7']"
      ]
     },
     "execution_count": 22,
     "metadata": {},
     "output_type": "execute_result"
    }
   ],
   "source": [
    "df_2018[var].unique().tolist()"
   ]
  },
  {
   "cell_type": "code",
   "execution_count": 23,
   "id": "690cac91-5e63-4302-8a68-19b814b63d30",
   "metadata": {},
   "outputs": [
    {
     "data": {
      "text/plain": [
       " 3    414\n",
       " 0    379\n",
       " 1    352\n",
       " 2    307\n",
       " 5    272\n",
       " 4    259\n",
       " 6    255\n",
       " 7     77\n",
       "Name: partyid, dtype: int64"
      ]
     },
     "execution_count": 23,
     "metadata": {},
     "output_type": "execute_result"
    }
   ],
   "source": [
    "df_2018[var].value_counts()"
   ]
  },
  {
   "cell_type": "code",
   "execution_count": 24,
   "id": "1cb4ae82-72a2-470d-99ca-a7cf581f4e35",
   "metadata": {},
   "outputs": [
    {
     "data": {
      "text/plain": [
       "33"
      ]
     },
     "execution_count": 24,
     "metadata": {},
     "output_type": "execute_result"
    }
   ],
   "source": [
    "# get the # of missing values\n",
    "len(df_2018) - np.sum(df_2018[var].value_counts().values)"
   ]
  },
  {
   "cell_type": "code",
   "execution_count": 25,
   "id": "7f3e98ea-e4f1-4453-819a-e06d54766b8e",
   "metadata": {},
   "outputs": [],
   "source": [
    "# the 'region' variable"
   ]
  },
  {
   "cell_type": "code",
   "execution_count": 26,
   "id": "f2b6fa4d-f064-4072-b9a1-208c5c1d39c4",
   "metadata": {},
   "outputs": [
    {
     "data": {
      "text/plain": [
       "[1, 2, 9, 3, 5, 7, 8, 4, 6]"
      ]
     },
     "execution_count": 26,
     "metadata": {},
     "output_type": "execute_result"
    }
   ],
   "source": [
    "var = 'region'\n",
    "df_2018[var].unique().tolist()"
   ]
  },
  {
   "cell_type": "code",
   "execution_count": 27,
   "id": "4dc0b9e4-a7c0-43a9-b91c-0c53ed0243ad",
   "metadata": {},
   "outputs": [
    {
     "data": {
      "text/plain": [
       "5    513\n",
       "3    388\n",
       "9    343\n",
       "7    277\n",
       "2    232\n",
       "8    183\n",
       "6    163\n",
       "4    125\n",
       "1    124\n",
       "Name: region, dtype: int64"
      ]
     },
     "execution_count": 27,
     "metadata": {},
     "output_type": "execute_result"
    }
   ],
   "source": [
    "df_2018[var].value_counts()"
   ]
  },
  {
   "cell_type": "code",
   "execution_count": 28,
   "id": "d87f6572-c5bd-4fd7-ae5d-a578837c4f81",
   "metadata": {},
   "outputs": [],
   "source": [
    "# the 'age' variable"
   ]
  },
  {
   "cell_type": "code",
   "execution_count": 29,
   "id": "09c2b582-dbeb-4ebf-84a5-c5d02bd5412a",
   "metadata": {},
   "outputs": [
    {
     "data": {
      "text/plain": [
       "['43',\n",
       " '74',\n",
       " '42',\n",
       " '63',\n",
       " '71',\n",
       " '67',\n",
       " '59',\n",
       " '62',\n",
       " '55',\n",
       " '34',\n",
       " '61',\n",
       " '44',\n",
       " '41',\n",
       " '75',\n",
       " '30',\n",
       " '40',\n",
       " '29',\n",
       " '37',\n",
       " '56',\n",
       " '82',\n",
       " '68',\n",
       " '20',\n",
       " '89',\n",
       " '60',\n",
       " '65',\n",
       " '45',\n",
       " '50',\n",
       " '52',\n",
       " '46',\n",
       " '53',\n",
       " '22',\n",
       " '33',\n",
       " '23',\n",
       " '28',\n",
       " '27',\n",
       " '64',\n",
       " '79',\n",
       " '32',\n",
       " '35',\n",
       " '21',\n",
       " '47',\n",
       " '70',\n",
       " '77',\n",
       " '69',\n",
       " '48',\n",
       " '81',\n",
       " '78',\n",
       " '54',\n",
       " '58',\n",
       " '76',\n",
       " '39',\n",
       " '38',\n",
       " '25',\n",
       " '49',\n",
       " '18',\n",
       " '19',\n",
       " '26',\n",
       " '57',\n",
       " '51',\n",
       " '36',\n",
       " '72',\n",
       " '24',\n",
       " '88',\n",
       " '66',\n",
       " '84',\n",
       " '80',\n",
       " '31',\n",
       " '83',\n",
       " '73',\n",
       " '86',\n",
       " '.n',\n",
       " '85',\n",
       " '87']"
      ]
     },
     "execution_count": 29,
     "metadata": {},
     "output_type": "execute_result"
    }
   ],
   "source": [
    "var = 'age'\n",
    "df_2018[var].unique().tolist()"
   ]
  },
  {
   "cell_type": "code",
   "execution_count": 30,
   "id": "0ebbef32-21bf-4526-b9d8-4c327391b5fe",
   "metadata": {},
   "outputs": [],
   "source": [
    "# .n: No answer"
   ]
  },
  {
   "cell_type": "code",
   "execution_count": 31,
   "id": "8ae1d5ec-db9d-4203-9105-8a3b88c5afbc",
   "metadata": {},
   "outputs": [],
   "source": [
    "df_2018[var] = df_2018[var].replace('.n', np.nan)"
   ]
  },
  {
   "cell_type": "code",
   "execution_count": 32,
   "id": "9dc5e776-e7df-47b0-9296-4b236f237f07",
   "metadata": {},
   "outputs": [
    {
     "data": {
      "text/plain": [
       "['43',\n",
       " '74',\n",
       " '42',\n",
       " '63',\n",
       " '71',\n",
       " '67',\n",
       " '59',\n",
       " '62',\n",
       " '55',\n",
       " '34',\n",
       " '61',\n",
       " '44',\n",
       " '41',\n",
       " '75',\n",
       " '30',\n",
       " '40',\n",
       " '29',\n",
       " '37',\n",
       " '56',\n",
       " '82',\n",
       " '68',\n",
       " '20',\n",
       " '89',\n",
       " '60',\n",
       " '65',\n",
       " '45',\n",
       " '50',\n",
       " '52',\n",
       " '46',\n",
       " '53',\n",
       " '22',\n",
       " '33',\n",
       " '23',\n",
       " '28',\n",
       " '27',\n",
       " '64',\n",
       " '79',\n",
       " '32',\n",
       " '35',\n",
       " '21',\n",
       " '47',\n",
       " '70',\n",
       " '77',\n",
       " '69',\n",
       " '48',\n",
       " '81',\n",
       " '78',\n",
       " '54',\n",
       " '58',\n",
       " '76',\n",
       " '39',\n",
       " '38',\n",
       " '25',\n",
       " '49',\n",
       " '18',\n",
       " '19',\n",
       " '26',\n",
       " '57',\n",
       " '51',\n",
       " '36',\n",
       " '72',\n",
       " '24',\n",
       " '88',\n",
       " '66',\n",
       " '84',\n",
       " '80',\n",
       " '31',\n",
       " '83',\n",
       " '73',\n",
       " '86',\n",
       " nan,\n",
       " '85',\n",
       " '87']"
      ]
     },
     "execution_count": 32,
     "metadata": {},
     "output_type": "execute_result"
    }
   ],
   "source": [
    "df_2018[var].unique().tolist()"
   ]
  },
  {
   "cell_type": "code",
   "execution_count": 33,
   "id": "236d37e7-eb81-4876-8927-69d942c52d06",
   "metadata": {},
   "outputs": [
    {
     "data": {
      "text/plain": [
       "34    65\n",
       "39    55\n",
       "56    50\n",
       "30    50\n",
       "53    48\n",
       "      ..\n",
       "79     9\n",
       "81     9\n",
       "88     8\n",
       "83     7\n",
       "87     5\n",
       "Name: age, Length: 72, dtype: int64"
      ]
     },
     "execution_count": 33,
     "metadata": {},
     "output_type": "execute_result"
    }
   ],
   "source": [
    "df_2018[var].value_counts()"
   ]
  },
  {
   "cell_type": "code",
   "execution_count": 34,
   "id": "f82a0c2f-0523-4e08-bc28-5dcba328cf46",
   "metadata": {},
   "outputs": [
    {
     "data": {
      "text/plain": [
       "7"
      ]
     },
     "execution_count": 34,
     "metadata": {},
     "output_type": "execute_result"
    }
   ],
   "source": [
    "# get the # of missing values\n",
    "len(df_2018) - np.sum(df_2018[var].value_counts().values)"
   ]
  },
  {
   "cell_type": "code",
   "execution_count": 35,
   "id": "fa3c5d18-63b4-47f1-9a0e-87d259147a02",
   "metadata": {},
   "outputs": [
    {
     "data": {
      "text/plain": [
       "[1, 2]"
      ]
     },
     "execution_count": 35,
     "metadata": {},
     "output_type": "execute_result"
    }
   ],
   "source": [
    "var = 'sex'\n",
    "df_2018[var].unique().tolist()"
   ]
  },
  {
   "cell_type": "code",
   "execution_count": 36,
   "id": "76f1a440-165d-47fa-badf-2c4671bc10ad",
   "metadata": {},
   "outputs": [
    {
     "data": {
      "text/plain": [
       "2    1296\n",
       "1    1052\n",
       "Name: sex, dtype: int64"
      ]
     },
     "execution_count": 36,
     "metadata": {},
     "output_type": "execute_result"
    }
   ],
   "source": [
    "df_2018[var].value_counts()"
   ]
  },
  {
   "cell_type": "code",
   "execution_count": 37,
   "id": "80f38252-ef0d-412f-b1f1-dcbd29fb8e4f",
   "metadata": {},
   "outputs": [
    {
     "data": {
      "text/plain": [
       "[1, 2, 3]"
      ]
     },
     "execution_count": 37,
     "metadata": {},
     "output_type": "execute_result"
    }
   ],
   "source": [
    "var = 'race'\n",
    "df_2018[var].unique().tolist()"
   ]
  },
  {
   "cell_type": "code",
   "execution_count": 38,
   "id": "1e040905-33bb-49a0-a7ba-60b1f6427c3f",
   "metadata": {},
   "outputs": [
    {
     "data": {
      "text/plain": [
       "1    1693\n",
       "2     385\n",
       "3     270\n",
       "Name: race, dtype: int64"
      ]
     },
     "execution_count": 38,
     "metadata": {},
     "output_type": "execute_result"
    }
   ],
   "source": [
    "df_2018[var].value_counts()"
   ]
  },
  {
   "cell_type": "code",
   "execution_count": 39,
   "id": "bb37a273-7772-4956-9180-b3d45db15227",
   "metadata": {},
   "outputs": [
    {
     "data": {
      "text/plain": [
       "[2, 1, 3, 4, 0]"
      ]
     },
     "execution_count": 39,
     "metadata": {},
     "output_type": "execute_result"
    }
   ],
   "source": [
    "var = 'degree'\n",
    "df_2018[var].unique().tolist()"
   ]
  },
  {
   "cell_type": "code",
   "execution_count": 40,
   "id": "057549eb-8d97-4174-86ee-fcb672271967",
   "metadata": {},
   "outputs": [],
   "source": [
    "miss_val_codes = ['.d', '.s']\n",
    "for code in miss_val_codes:\n",
    "    df_2021[var] = df_2021[var].replace(code, np.nan)"
   ]
  },
  {
   "cell_type": "code",
   "execution_count": 41,
   "id": "ca0f1f00-323c-4d4a-9074-e8773644a7b8",
   "metadata": {},
   "outputs": [
    {
     "data": {
      "text/plain": [
       "[' 1', ' 3', ' 0', ' 4', ' 2', nan]"
      ]
     },
     "execution_count": 41,
     "metadata": {},
     "output_type": "execute_result"
    }
   ],
   "source": [
    "df_2021[var].unique().tolist()"
   ]
  },
  {
   "cell_type": "code",
   "execution_count": 42,
   "id": "4a03e529-be79-49f8-8112-647f1352bf91",
   "metadata": {},
   "outputs": [
    {
     "data": {
      "text/plain": [
       " 1    1597\n",
       " 3    1036\n",
       " 4     760\n",
       " 2     370\n",
       " 0     246\n",
       "Name: degree, dtype: int64"
      ]
     },
     "execution_count": 42,
     "metadata": {},
     "output_type": "execute_result"
    }
   ],
   "source": [
    "df_2021[var].value_counts()"
   ]
  },
  {
   "cell_type": "code",
   "execution_count": 43,
   "id": "9c0194f0-71ad-4372-9714-7ef7f622d7e7",
   "metadata": {},
   "outputs": [
    {
     "data": {
      "text/plain": [
       "23"
      ]
     },
     "execution_count": 43,
     "metadata": {},
     "output_type": "execute_result"
    }
   ],
   "source": [
    "# get the # of missing values\n",
    "len(df_2021) - np.sum(df_2021[var].value_counts().values)"
   ]
  },
  {
   "cell_type": "code",
   "execution_count": 44,
   "id": "c569ba0d-3fca-4a5a-ab85-6cdf2e866dae",
   "metadata": {},
   "outputs": [],
   "source": [
    "# clean the 2021 data"
   ]
  },
  {
   "cell_type": "code",
   "execution_count": 45,
   "id": "da6db9bb-d7d6-4537-80f1-bd59f590dd7a",
   "metadata": {},
   "outputs": [],
   "source": [
    "# the 'id' variable"
   ]
  },
  {
   "cell_type": "code",
   "execution_count": 46,
   "id": "73574633-ae69-4d1a-a75d-c43af40b252f",
   "metadata": {},
   "outputs": [
    {
     "data": {
      "text/html": [
       "<div>\n",
       "<style scoped>\n",
       "    .dataframe tbody tr th:only-of-type {\n",
       "        vertical-align: middle;\n",
       "    }\n",
       "\n",
       "    .dataframe tbody tr th {\n",
       "        vertical-align: top;\n",
       "    }\n",
       "\n",
       "    .dataframe thead th {\n",
       "        text-align: right;\n",
       "    }\n",
       "</style>\n",
       "<table border=\"1\" class=\"dataframe\">\n",
       "  <thead>\n",
       "    <tr style=\"text-align: right;\">\n",
       "      <th></th>\n",
       "      <th>conmedic</th>\n",
       "      <th>partyid</th>\n",
       "      <th>region</th>\n",
       "      <th>id</th>\n",
       "      <th>age</th>\n",
       "      <th>sex</th>\n",
       "      <th>race</th>\n",
       "      <th>degree</th>\n",
       "    </tr>\n",
       "  </thead>\n",
       "  <tbody>\n",
       "  </tbody>\n",
       "</table>\n",
       "</div>"
      ],
      "text/plain": [
       "Empty DataFrame\n",
       "Columns: [conmedic, partyid, region, id, age, sex, race, degree]\n",
       "Index: []"
      ]
     },
     "execution_count": 46,
     "metadata": {},
     "output_type": "execute_result"
    }
   ],
   "source": [
    "miss_val_codes = ['.d', '.i', '.j', '.m', '.n', '.p', '.q', '.r', '.s', '.u', '.x', '.y', '.z']\n",
    "\n",
    "var = 'id'\n",
    "df_2021[df_2021[var].isin(miss_val_codes)]"
   ]
  },
  {
   "cell_type": "code",
   "execution_count": 47,
   "id": "59dba386-6b57-41c4-b105-72d45ab66b1f",
   "metadata": {},
   "outputs": [],
   "source": [
    "# no respondents have missing IDs"
   ]
  },
  {
   "cell_type": "code",
   "execution_count": 48,
   "id": "c79d5387-2d7d-4d6e-a640-749c0708a0f8",
   "metadata": {},
   "outputs": [],
   "source": [
    "# the 'conmedic' variable"
   ]
  },
  {
   "cell_type": "code",
   "execution_count": 49,
   "id": "95a9a68c-5243-4ec8-afa6-6fc2053ec59f",
   "metadata": {},
   "outputs": [
    {
     "data": {
      "text/plain": [
       "[' 1', '.i', ' 2', ' 3', '.s', '.d']"
      ]
     },
     "execution_count": 49,
     "metadata": {},
     "output_type": "execute_result"
    }
   ],
   "source": [
    "var = 'conmedic'\n",
    "df_2021[var].unique().tolist()"
   ]
  },
  {
   "cell_type": "code",
   "execution_count": 50,
   "id": "5af92f55-4d52-4918-bc18-afc17241af83",
   "metadata": {},
   "outputs": [],
   "source": [
    "# .i: IAP (Inapplicable) - respondent was asked NOT to respond\n",
    "# .s: Skipped on web\n",
    "# .d: Don't know"
   ]
  },
  {
   "cell_type": "code",
   "execution_count": 51,
   "id": "e86ab33b-87d3-49ff-bdee-1264bba68c2c",
   "metadata": {},
   "outputs": [],
   "source": [
    "miss_val_codes = ['.i', '.s', '.d']\n",
    "for code in miss_val_codes:\n",
    "    df_2021[var] = df_2021[var].replace(code, np.nan)"
   ]
  },
  {
   "cell_type": "code",
   "execution_count": 52,
   "id": "7ac18e9d-570f-4012-928c-33b50550d4d1",
   "metadata": {},
   "outputs": [
    {
     "data": {
      "text/plain": [
       "[' 1', nan, ' 2', ' 3']"
      ]
     },
     "execution_count": 52,
     "metadata": {},
     "output_type": "execute_result"
    }
   ],
   "source": [
    "df_2021[var].unique().tolist()"
   ]
  },
  {
   "cell_type": "code",
   "execution_count": 53,
   "id": "48355831-5df7-41c3-927d-fab2c5bba1a2",
   "metadata": {},
   "outputs": [
    {
     "data": {
      "text/plain": [
       " 2    1346\n",
       " 1    1070\n",
       " 3     246\n",
       "Name: conmedic, dtype: int64"
      ]
     },
     "execution_count": 53,
     "metadata": {},
     "output_type": "execute_result"
    }
   ],
   "source": [
    "df_2021[var].value_counts()"
   ]
  },
  {
   "cell_type": "code",
   "execution_count": 54,
   "id": "40086038-5494-4943-811a-b9b1b786eff0",
   "metadata": {},
   "outputs": [
    {
     "data": {
      "text/plain": [
       "1370"
      ]
     },
     "execution_count": 54,
     "metadata": {},
     "output_type": "execute_result"
    }
   ],
   "source": [
    "# get the # of missing values\n",
    "len(df_2021) - np.sum(df_2021[var].value_counts().values)"
   ]
  },
  {
   "cell_type": "code",
   "execution_count": 55,
   "id": "1f49f6d7-a31a-4175-87e8-ea1bc8d160d8",
   "metadata": {},
   "outputs": [],
   "source": [
    "# the 'partyid' variable"
   ]
  },
  {
   "cell_type": "code",
   "execution_count": 56,
   "id": "e313aa1c-3b0d-4f91-b8f0-3c0de8aa714f",
   "metadata": {},
   "outputs": [
    {
     "data": {
      "text/plain": [
       "[' 3', ' 2', ' 0', ' 1', ' 5', ' 7', ' 4', ' 6', '.n']"
      ]
     },
     "execution_count": 56,
     "metadata": {},
     "output_type": "execute_result"
    }
   ],
   "source": [
    "var = 'partyid'\n",
    "df_2021[var].unique().tolist()"
   ]
  },
  {
   "cell_type": "code",
   "execution_count": 57,
   "id": "5d9afa19-0617-490a-917a-cd414a738117",
   "metadata": {},
   "outputs": [],
   "source": [
    "# .n: No answer"
   ]
  },
  {
   "cell_type": "code",
   "execution_count": 58,
   "id": "16068ed6-0197-43af-9af0-89047370136e",
   "metadata": {},
   "outputs": [],
   "source": [
    "df_2021[var] = df_2021[var].replace('.n', np.nan)"
   ]
  },
  {
   "cell_type": "code",
   "execution_count": 59,
   "id": "f6bbadf3-2341-4438-a9f7-81963d15fc93",
   "metadata": {},
   "outputs": [
    {
     "data": {
      "text/plain": [
       "[' 3', ' 2', ' 0', ' 1', ' 5', ' 7', ' 4', ' 6', nan]"
      ]
     },
     "execution_count": 59,
     "metadata": {},
     "output_type": "execute_result"
    }
   ],
   "source": [
    "df_2021[var].unique().tolist()"
   ]
  },
  {
   "cell_type": "code",
   "execution_count": 60,
   "id": "02e7308c-273a-40c7-b590-739e3aa1f456",
   "metadata": {},
   "outputs": [
    {
     "data": {
      "text/plain": [
       " 0    822\n",
       " 3    817\n",
       " 1    541\n",
       " 6    524\n",
       " 2    471\n",
       " 5    384\n",
       " 4    327\n",
       " 7    114\n",
       "Name: partyid, dtype: int64"
      ]
     },
     "execution_count": 60,
     "metadata": {},
     "output_type": "execute_result"
    }
   ],
   "source": [
    "df_2021[var].value_counts()"
   ]
  },
  {
   "cell_type": "code",
   "execution_count": 61,
   "id": "fbccc178-5e75-4692-ad8b-c8a13ddb94be",
   "metadata": {},
   "outputs": [
    {
     "data": {
      "text/plain": [
       "32"
      ]
     },
     "execution_count": 61,
     "metadata": {},
     "output_type": "execute_result"
    }
   ],
   "source": [
    "# get the # of missing values\n",
    "len(df_2021) - np.sum(df_2021[var].value_counts().values)"
   ]
  },
  {
   "cell_type": "code",
   "execution_count": 62,
   "id": "d29d54be-69ff-4539-9066-0cb0850b9012",
   "metadata": {},
   "outputs": [],
   "source": [
    "# the 'region' variable"
   ]
  },
  {
   "cell_type": "code",
   "execution_count": 63,
   "id": "2fa558f3-b624-4121-9c3c-8e9bf62d98c1",
   "metadata": {},
   "outputs": [
    {
     "data": {
      "text/plain": [
       "[1, 2, 9, 3, 5, 7, 8, 4, 6]"
      ]
     },
     "execution_count": 63,
     "metadata": {},
     "output_type": "execute_result"
    }
   ],
   "source": [
    "var = 'region'\n",
    "df_2021[var].unique().tolist()"
   ]
  },
  {
   "cell_type": "code",
   "execution_count": 64,
   "id": "15d343a2-1f7c-4db0-8eba-6090f3409d95",
   "metadata": {},
   "outputs": [
    {
     "data": {
      "text/plain": [
       "5    800\n",
       "3    676\n",
       "9    584\n",
       "7    426\n",
       "2    414\n",
       "8    345\n",
       "4    314\n",
       "6    270\n",
       "1    203\n",
       "Name: region, dtype: int64"
      ]
     },
     "execution_count": 64,
     "metadata": {},
     "output_type": "execute_result"
    }
   ],
   "source": [
    "df_2021[var].value_counts()"
   ]
  },
  {
   "cell_type": "code",
   "execution_count": 65,
   "id": "9f5f4c5a-ee84-4aac-90f2-cbcabcff9a07",
   "metadata": {},
   "outputs": [],
   "source": [
    "# the 'age' variable"
   ]
  },
  {
   "cell_type": "code",
   "execution_count": 66,
   "id": "36103aa3-5ed6-42d3-86a0-a4fa2bb3d2f5",
   "metadata": {},
   "outputs": [
    {
     "data": {
      "text/plain": [
       "['65',\n",
       " '60',\n",
       " '.n',\n",
       " '.i',\n",
       " '33',\n",
       " '20',\n",
       " '76',\n",
       " '61',\n",
       " '37',\n",
       " '23',\n",
       " '71',\n",
       " '21',\n",
       " '75',\n",
       " '56',\n",
       " '22',\n",
       " '31',\n",
       " '55',\n",
       " '53',\n",
       " '43',\n",
       " '44',\n",
       " '32',\n",
       " '30',\n",
       " '52',\n",
       " '34',\n",
       " '62',\n",
       " '42',\n",
       " '29',\n",
       " '51',\n",
       " '24',\n",
       " '26',\n",
       " '28',\n",
       " '57',\n",
       " '45',\n",
       " '64',\n",
       " '82',\n",
       " '58',\n",
       " '89',\n",
       " '78',\n",
       " '50',\n",
       " '72',\n",
       " '73',\n",
       " '49',\n",
       " '63',\n",
       " '41',\n",
       " '66',\n",
       " '74',\n",
       " '70',\n",
       " '46',\n",
       " '79',\n",
       " '38',\n",
       " '68',\n",
       " '54',\n",
       " '59',\n",
       " '25',\n",
       " '40',\n",
       " '67',\n",
       " '84',\n",
       " '36',\n",
       " '87',\n",
       " '35',\n",
       " '69',\n",
       " '85',\n",
       " '39',\n",
       " '47',\n",
       " '27',\n",
       " '48',\n",
       " '80',\n",
       " '18',\n",
       " '81',\n",
       " '77',\n",
       " '83',\n",
       " '19',\n",
       " '86',\n",
       " '88']"
      ]
     },
     "execution_count": 66,
     "metadata": {},
     "output_type": "execute_result"
    }
   ],
   "source": [
    "var = 'age'\n",
    "df_2021[var].unique().tolist()"
   ]
  },
  {
   "cell_type": "code",
   "execution_count": 67,
   "id": "c4455cf2-ad29-45a9-9688-76c9ad2f04ca",
   "metadata": {},
   "outputs": [],
   "source": [
    "# .n: No answer\n",
    "# .i: IAP (Inapplicable)"
   ]
  },
  {
   "cell_type": "code",
   "execution_count": 68,
   "id": "211e5e29-75b0-40b9-81b2-26807081d9a3",
   "metadata": {},
   "outputs": [],
   "source": [
    "miss_val_codes = ['.n', '.i']\n",
    "for code in miss_val_codes:\n",
    "    df_2021[var] = df_2021[var].replace(code, np.nan)"
   ]
  },
  {
   "cell_type": "code",
   "execution_count": 69,
   "id": "49d33d04-720d-4e97-a7f5-851bd84dd7c9",
   "metadata": {},
   "outputs": [
    {
     "data": {
      "text/plain": [
       "['65',\n",
       " '60',\n",
       " nan,\n",
       " '33',\n",
       " '20',\n",
       " '76',\n",
       " '61',\n",
       " '37',\n",
       " '23',\n",
       " '71',\n",
       " '21',\n",
       " '75',\n",
       " '56',\n",
       " '22',\n",
       " '31',\n",
       " '55',\n",
       " '53',\n",
       " '43',\n",
       " '44',\n",
       " '32',\n",
       " '30',\n",
       " '52',\n",
       " '34',\n",
       " '62',\n",
       " '42',\n",
       " '29',\n",
       " '51',\n",
       " '24',\n",
       " '26',\n",
       " '28',\n",
       " '57',\n",
       " '45',\n",
       " '64',\n",
       " '82',\n",
       " '58',\n",
       " '89',\n",
       " '78',\n",
       " '50',\n",
       " '72',\n",
       " '73',\n",
       " '49',\n",
       " '63',\n",
       " '41',\n",
       " '66',\n",
       " '74',\n",
       " '70',\n",
       " '46',\n",
       " '79',\n",
       " '38',\n",
       " '68',\n",
       " '54',\n",
       " '59',\n",
       " '25',\n",
       " '40',\n",
       " '67',\n",
       " '84',\n",
       " '36',\n",
       " '87',\n",
       " '35',\n",
       " '69',\n",
       " '85',\n",
       " '39',\n",
       " '47',\n",
       " '27',\n",
       " '48',\n",
       " '80',\n",
       " '18',\n",
       " '81',\n",
       " '77',\n",
       " '83',\n",
       " '19',\n",
       " '86',\n",
       " '88']"
      ]
     },
     "execution_count": 69,
     "metadata": {},
     "output_type": "execute_result"
    }
   ],
   "source": [
    "df_2021[var].unique().tolist()"
   ]
  },
  {
   "cell_type": "code",
   "execution_count": 70,
   "id": "553636c1-9413-4e95-9ff7-9a23d1f64fd1",
   "metadata": {},
   "outputs": [
    {
     "data": {
      "text/plain": [
       "67    89\n",
       "33    82\n",
       "59    81\n",
       "57    79\n",
       "62    77\n",
       "      ..\n",
       "19    14\n",
       "86    14\n",
       "87     5\n",
       "88     5\n",
       "18     4\n",
       "Name: age, Length: 72, dtype: int64"
      ]
     },
     "execution_count": 70,
     "metadata": {},
     "output_type": "execute_result"
    }
   ],
   "source": [
    "df_2021[var].value_counts()"
   ]
  },
  {
   "cell_type": "code",
   "execution_count": 71,
   "id": "ba7d7f28-6bb8-4ac6-9c78-c6d4617cdfc9",
   "metadata": {},
   "outputs": [
    {
     "data": {
      "text/plain": [
       "333"
      ]
     },
     "execution_count": 71,
     "metadata": {},
     "output_type": "execute_result"
    }
   ],
   "source": [
    "# get the # of missing values\n",
    "len(df_2021) - np.sum(df_2021[var].value_counts().values)"
   ]
  },
  {
   "cell_type": "code",
   "execution_count": 72,
   "id": "7c16616f-ebc6-4c59-81ad-8f1c865ca540",
   "metadata": {},
   "outputs": [
    {
     "data": {
      "text/plain": [
       "[' 2', ' 1', '.n', '.i', '.s']"
      ]
     },
     "execution_count": 72,
     "metadata": {},
     "output_type": "execute_result"
    }
   ],
   "source": [
    "var = 'sex'\n",
    "df_2021[var].unique().tolist()"
   ]
  },
  {
   "cell_type": "code",
   "execution_count": 73,
   "id": "a5c6f087-2de3-4003-aeca-a93b0e3994ff",
   "metadata": {},
   "outputs": [],
   "source": [
    "# .n: No answer\n",
    "# .i: IAP (Inapplicable)\n",
    "# .s: Skipped on web"
   ]
  },
  {
   "cell_type": "code",
   "execution_count": 74,
   "id": "5240c2b6-2488-4c08-8467-dc18f779bf8b",
   "metadata": {},
   "outputs": [],
   "source": [
    "miss_val_codes = ['.n', '.i', '.s']\n",
    "for code in miss_val_codes:\n",
    "    df_2021[var] = df_2021[var].replace(code, np.nan)"
   ]
  },
  {
   "cell_type": "code",
   "execution_count": 75,
   "id": "ce4a4ebc-576c-46cb-bd9e-7988d78ff4b8",
   "metadata": {},
   "outputs": [
    {
     "data": {
      "text/plain": [
       "[' 2', ' 1', nan]"
      ]
     },
     "execution_count": 75,
     "metadata": {},
     "output_type": "execute_result"
    }
   ],
   "source": [
    "df_2021[var].unique().tolist()"
   ]
  },
  {
   "cell_type": "code",
   "execution_count": 76,
   "id": "7f84fefd-6b3d-4b9b-9025-46fee7815209",
   "metadata": {},
   "outputs": [
    {
     "data": {
      "text/plain": [
       " 2    2204\n",
       " 1    1736\n",
       "Name: sex, dtype: int64"
      ]
     },
     "execution_count": 76,
     "metadata": {},
     "output_type": "execute_result"
    }
   ],
   "source": [
    "df_2021[var].value_counts()"
   ]
  },
  {
   "cell_type": "code",
   "execution_count": 77,
   "id": "6ea189ce-da9e-40b8-822d-7af305c9cee5",
   "metadata": {},
   "outputs": [
    {
     "data": {
      "text/plain": [
       "92"
      ]
     },
     "execution_count": 77,
     "metadata": {},
     "output_type": "execute_result"
    }
   ],
   "source": [
    "# get the # of missing values\n",
    "len(df_2021) - np.sum(df_2021[var].value_counts().values)"
   ]
  },
  {
   "cell_type": "code",
   "execution_count": 78,
   "id": "633e6757-1bb0-4d30-98e1-af0fa7fa636f",
   "metadata": {},
   "outputs": [
    {
     "data": {
      "text/plain": [
       "[' 1', ' 2', ' 3', '.i']"
      ]
     },
     "execution_count": 78,
     "metadata": {},
     "output_type": "execute_result"
    }
   ],
   "source": [
    "var = 'race'\n",
    "df_2021[var].unique().tolist()"
   ]
  },
  {
   "cell_type": "code",
   "execution_count": 79,
   "id": "d64dd89e-9981-4bd9-ae8e-9882904433fe",
   "metadata": {},
   "outputs": [],
   "source": [
    "# .i: IAP (Inapplicable)"
   ]
  },
  {
   "cell_type": "code",
   "execution_count": 80,
   "id": "0f4f6738-dbb0-4f11-ab16-c857eac87141",
   "metadata": {},
   "outputs": [],
   "source": [
    "df_2021[var] = df_2021[var].replace('.i', np.nan)"
   ]
  },
  {
   "cell_type": "code",
   "execution_count": 81,
   "id": "fb6c162a-8f1c-4e19-af4c-1d96d1d455e8",
   "metadata": {},
   "outputs": [
    {
     "data": {
      "text/plain": [
       "[' 1', ' 2', ' 3', nan]"
      ]
     },
     "execution_count": 81,
     "metadata": {},
     "output_type": "execute_result"
    }
   ],
   "source": [
    "df_2021[var].unique().tolist()"
   ]
  },
  {
   "cell_type": "code",
   "execution_count": 82,
   "id": "19ccd322-6d0b-44be-b2b5-377f07237fbf",
   "metadata": {},
   "outputs": [
    {
     "data": {
      "text/plain": [
       "54"
      ]
     },
     "execution_count": 82,
     "metadata": {},
     "output_type": "execute_result"
    }
   ],
   "source": [
    "# get the # of missing values\n",
    "len(df_2021) - np.sum(df_2021[var].value_counts().values)"
   ]
  },
  {
   "cell_type": "code",
   "execution_count": 83,
   "id": "8f76ea86-587a-459e-b50a-b05a7497b0c6",
   "metadata": {},
   "outputs": [
    {
     "data": {
      "text/plain": [
       "[' 1', ' 3', ' 0', ' 4', ' 2', nan]"
      ]
     },
     "execution_count": 83,
     "metadata": {},
     "output_type": "execute_result"
    }
   ],
   "source": [
    "var = 'degree'\n",
    "df_2021[var].unique().tolist()"
   ]
  },
  {
   "cell_type": "code",
   "execution_count": 84,
   "id": "2b5666a8-2c77-436d-a86f-262618da2a1f",
   "metadata": {},
   "outputs": [],
   "source": [
    "# .d: Don't know\n",
    "# .s: Skipped on web"
   ]
  },
  {
   "cell_type": "code",
   "execution_count": 85,
   "id": "927cbc51-b3a3-4e29-b205-b55962638f4f",
   "metadata": {},
   "outputs": [],
   "source": [
    "miss_val_codes = ['.d', '.s']\n",
    "for code in miss_val_codes:\n",
    "    df_2021[var] = df_2021[var].replace(code, np.nan)"
   ]
  },
  {
   "cell_type": "code",
   "execution_count": 86,
   "id": "6c0cc71d-5b7a-4cd1-927e-5a6c0709326d",
   "metadata": {},
   "outputs": [
    {
     "data": {
      "text/plain": [
       "[' 1', ' 3', ' 0', ' 4', ' 2', nan]"
      ]
     },
     "execution_count": 86,
     "metadata": {},
     "output_type": "execute_result"
    }
   ],
   "source": [
    "df_2021[var].unique().tolist()"
   ]
  },
  {
   "cell_type": "code",
   "execution_count": 87,
   "id": "d1b77adc-1db6-49b4-a7e5-488b01e9bb60",
   "metadata": {},
   "outputs": [
    {
     "data": {
      "text/plain": [
       " 1    1597\n",
       " 3    1036\n",
       " 4     760\n",
       " 2     370\n",
       " 0     246\n",
       "Name: degree, dtype: int64"
      ]
     },
     "execution_count": 87,
     "metadata": {},
     "output_type": "execute_result"
    }
   ],
   "source": [
    "df_2021[var].value_counts()"
   ]
  },
  {
   "cell_type": "code",
   "execution_count": 88,
   "id": "ed28cf66-affc-4aec-88b0-2fc3617609dc",
   "metadata": {},
   "outputs": [
    {
     "data": {
      "text/plain": [
       "23"
      ]
     },
     "execution_count": 88,
     "metadata": {},
     "output_type": "execute_result"
    }
   ],
   "source": [
    "# get the # of missing values\n",
    "len(df_2021) - np.sum(df_2021[var].value_counts().values)"
   ]
  },
  {
   "cell_type": "code",
   "execution_count": 122,
   "id": "8bd290de-14ec-43d8-885d-4ddb466b49fd",
   "metadata": {},
   "outputs": [
    {
     "data": {
      "text/plain": [
       "2136"
      ]
     },
     "execution_count": 122,
     "metadata": {},
     "output_type": "execute_result"
    }
   ],
   "source": [
    "# get the respondent IDs in common\n",
    "common_ids = pd.merge(df_2018, df_2021, on='id', how='inner')['id'].values.tolist()\n",
    "len(common_ids)"
   ]
  },
  {
   "cell_type": "code",
   "execution_count": 123,
   "id": "49289570-6e96-4aca-8c62-0700bb5c7faf",
   "metadata": {},
   "outputs": [],
   "source": [
    "df_2018_filtered = df_2018[df_2018['id'].isin(common_ids)].copy()\n",
    "df_2021_filtered = df_2021[df_2021['id'].isin(common_ids)].copy()"
   ]
  },
  {
   "cell_type": "code",
   "execution_count": 124,
   "id": "e53c2d2d-c3a1-4cdc-9a89-2f9c1ad83916",
   "metadata": {},
   "outputs": [
    {
     "data": {
      "text/html": [
       "<div>\n",
       "<style scoped>\n",
       "    .dataframe tbody tr th:only-of-type {\n",
       "        vertical-align: middle;\n",
       "    }\n",
       "\n",
       "    .dataframe tbody tr th {\n",
       "        vertical-align: top;\n",
       "    }\n",
       "\n",
       "    .dataframe thead th {\n",
       "        text-align: right;\n",
       "    }\n",
       "</style>\n",
       "<table border=\"1\" class=\"dataframe\">\n",
       "  <thead>\n",
       "    <tr style=\"text-align: right;\">\n",
       "      <th></th>\n",
       "      <th>conmedic</th>\n",
       "      <th>partyid</th>\n",
       "      <th>region</th>\n",
       "      <th>id</th>\n",
       "      <th>age</th>\n",
       "      <th>sex</th>\n",
       "      <th>race</th>\n",
       "      <th>degree</th>\n",
       "    </tr>\n",
       "  </thead>\n",
       "  <tbody>\n",
       "    <tr>\n",
       "      <th>0</th>\n",
       "      <td>NaN</td>\n",
       "      <td>5</td>\n",
       "      <td>1</td>\n",
       "      <td>1</td>\n",
       "      <td>43</td>\n",
       "      <td>1</td>\n",
       "      <td>1</td>\n",
       "      <td>2</td>\n",
       "    </tr>\n",
       "    <tr>\n",
       "      <th>1</th>\n",
       "      <td>1</td>\n",
       "      <td>2</td>\n",
       "      <td>1</td>\n",
       "      <td>2</td>\n",
       "      <td>74</td>\n",
       "      <td>2</td>\n",
       "      <td>1</td>\n",
       "      <td>1</td>\n",
       "    </tr>\n",
       "    <tr>\n",
       "      <th>2</th>\n",
       "      <td>1</td>\n",
       "      <td>4</td>\n",
       "      <td>1</td>\n",
       "      <td>3</td>\n",
       "      <td>42</td>\n",
       "      <td>1</td>\n",
       "      <td>1</td>\n",
       "      <td>3</td>\n",
       "    </tr>\n",
       "    <tr>\n",
       "      <th>3</th>\n",
       "      <td>3</td>\n",
       "      <td>2</td>\n",
       "      <td>1</td>\n",
       "      <td>4</td>\n",
       "      <td>63</td>\n",
       "      <td>2</td>\n",
       "      <td>1</td>\n",
       "      <td>3</td>\n",
       "    </tr>\n",
       "    <tr>\n",
       "      <th>5</th>\n",
       "      <td>NaN</td>\n",
       "      <td>2</td>\n",
       "      <td>1</td>\n",
       "      <td>6</td>\n",
       "      <td>67</td>\n",
       "      <td>2</td>\n",
       "      <td>1</td>\n",
       "      <td>3</td>\n",
       "    </tr>\n",
       "  </tbody>\n",
       "</table>\n",
       "</div>"
      ],
      "text/plain": [
       "  conmedic partyid  region  id age  sex  race  degree\n",
       "0      NaN       5       1   1  43    1     1       2\n",
       "1        1       2       1   2  74    2     1       1\n",
       "2        1       4       1   3  42    1     1       3\n",
       "3        3       2       1   4  63    2     1       3\n",
       "5      NaN       2       1   6  67    2     1       3"
      ]
     },
     "execution_count": 124,
     "metadata": {},
     "output_type": "execute_result"
    }
   ],
   "source": [
    "df_2018_filtered.head()"
   ]
  },
  {
   "cell_type": "code",
   "execution_count": 125,
   "id": "e05ba820-ca2c-4f1a-bdb1-1cf5c91b506c",
   "metadata": {},
   "outputs": [],
   "source": [
    "df_2018_filtered['year'] = 2018"
   ]
  },
  {
   "cell_type": "code",
   "execution_count": 126,
   "id": "2772a5e8-769f-451c-9443-cf8de801fb55",
   "metadata": {},
   "outputs": [
    {
     "data": {
      "text/html": [
       "<div>\n",
       "<style scoped>\n",
       "    .dataframe tbody tr th:only-of-type {\n",
       "        vertical-align: middle;\n",
       "    }\n",
       "\n",
       "    .dataframe tbody tr th {\n",
       "        vertical-align: top;\n",
       "    }\n",
       "\n",
       "    .dataframe thead th {\n",
       "        text-align: right;\n",
       "    }\n",
       "</style>\n",
       "<table border=\"1\" class=\"dataframe\">\n",
       "  <thead>\n",
       "    <tr style=\"text-align: right;\">\n",
       "      <th></th>\n",
       "      <th>conmedic</th>\n",
       "      <th>partyid</th>\n",
       "      <th>region</th>\n",
       "      <th>id</th>\n",
       "      <th>age</th>\n",
       "      <th>sex</th>\n",
       "      <th>race</th>\n",
       "      <th>degree</th>\n",
       "      <th>year</th>\n",
       "    </tr>\n",
       "  </thead>\n",
       "  <tbody>\n",
       "    <tr>\n",
       "      <th>0</th>\n",
       "      <td>NaN</td>\n",
       "      <td>5</td>\n",
       "      <td>1</td>\n",
       "      <td>1</td>\n",
       "      <td>43</td>\n",
       "      <td>1</td>\n",
       "      <td>1</td>\n",
       "      <td>2</td>\n",
       "      <td>2018</td>\n",
       "    </tr>\n",
       "    <tr>\n",
       "      <th>1</th>\n",
       "      <td>1</td>\n",
       "      <td>2</td>\n",
       "      <td>1</td>\n",
       "      <td>2</td>\n",
       "      <td>74</td>\n",
       "      <td>2</td>\n",
       "      <td>1</td>\n",
       "      <td>1</td>\n",
       "      <td>2018</td>\n",
       "    </tr>\n",
       "    <tr>\n",
       "      <th>2</th>\n",
       "      <td>1</td>\n",
       "      <td>4</td>\n",
       "      <td>1</td>\n",
       "      <td>3</td>\n",
       "      <td>42</td>\n",
       "      <td>1</td>\n",
       "      <td>1</td>\n",
       "      <td>3</td>\n",
       "      <td>2018</td>\n",
       "    </tr>\n",
       "    <tr>\n",
       "      <th>3</th>\n",
       "      <td>3</td>\n",
       "      <td>2</td>\n",
       "      <td>1</td>\n",
       "      <td>4</td>\n",
       "      <td>63</td>\n",
       "      <td>2</td>\n",
       "      <td>1</td>\n",
       "      <td>3</td>\n",
       "      <td>2018</td>\n",
       "    </tr>\n",
       "    <tr>\n",
       "      <th>5</th>\n",
       "      <td>NaN</td>\n",
       "      <td>2</td>\n",
       "      <td>1</td>\n",
       "      <td>6</td>\n",
       "      <td>67</td>\n",
       "      <td>2</td>\n",
       "      <td>1</td>\n",
       "      <td>3</td>\n",
       "      <td>2018</td>\n",
       "    </tr>\n",
       "  </tbody>\n",
       "</table>\n",
       "</div>"
      ],
      "text/plain": [
       "  conmedic partyid  region  id age  sex  race  degree  year\n",
       "0      NaN       5       1   1  43    1     1       2  2018\n",
       "1        1       2       1   2  74    2     1       1  2018\n",
       "2        1       4       1   3  42    1     1       3  2018\n",
       "3        3       2       1   4  63    2     1       3  2018\n",
       "5      NaN       2       1   6  67    2     1       3  2018"
      ]
     },
     "execution_count": 126,
     "metadata": {},
     "output_type": "execute_result"
    }
   ],
   "source": [
    "df_2018_filtered.head()"
   ]
  },
  {
   "cell_type": "code",
   "execution_count": 127,
   "id": "77c9b5fd-3294-4b29-8d3e-b993d36ce845",
   "metadata": {},
   "outputs": [
    {
     "data": {
      "text/html": [
       "<div>\n",
       "<style scoped>\n",
       "    .dataframe tbody tr th:only-of-type {\n",
       "        vertical-align: middle;\n",
       "    }\n",
       "\n",
       "    .dataframe tbody tr th {\n",
       "        vertical-align: top;\n",
       "    }\n",
       "\n",
       "    .dataframe thead th {\n",
       "        text-align: right;\n",
       "    }\n",
       "</style>\n",
       "<table border=\"1\" class=\"dataframe\">\n",
       "  <thead>\n",
       "    <tr style=\"text-align: right;\">\n",
       "      <th></th>\n",
       "      <th>conmedic</th>\n",
       "      <th>partyid</th>\n",
       "      <th>region</th>\n",
       "      <th>id</th>\n",
       "      <th>age</th>\n",
       "      <th>sex</th>\n",
       "      <th>race</th>\n",
       "      <th>degree</th>\n",
       "    </tr>\n",
       "  </thead>\n",
       "  <tbody>\n",
       "    <tr>\n",
       "      <th>0</th>\n",
       "      <td>1</td>\n",
       "      <td>3</td>\n",
       "      <td>1</td>\n",
       "      <td>1</td>\n",
       "      <td>65</td>\n",
       "      <td>2</td>\n",
       "      <td>1</td>\n",
       "      <td>1</td>\n",
       "    </tr>\n",
       "    <tr>\n",
       "      <th>1</th>\n",
       "      <td>1</td>\n",
       "      <td>2</td>\n",
       "      <td>1</td>\n",
       "      <td>2</td>\n",
       "      <td>60</td>\n",
       "      <td>1</td>\n",
       "      <td>1</td>\n",
       "      <td>3</td>\n",
       "    </tr>\n",
       "    <tr>\n",
       "      <th>2</th>\n",
       "      <td>NaN</td>\n",
       "      <td>0</td>\n",
       "      <td>2</td>\n",
       "      <td>3</td>\n",
       "      <td>NaN</td>\n",
       "      <td>NaN</td>\n",
       "      <td>1</td>\n",
       "      <td>0</td>\n",
       "    </tr>\n",
       "    <tr>\n",
       "      <th>3</th>\n",
       "      <td>2</td>\n",
       "      <td>3</td>\n",
       "      <td>2</td>\n",
       "      <td>4</td>\n",
       "      <td>NaN</td>\n",
       "      <td>NaN</td>\n",
       "      <td>1</td>\n",
       "      <td>0</td>\n",
       "    </tr>\n",
       "    <tr>\n",
       "      <th>4</th>\n",
       "      <td>NaN</td>\n",
       "      <td>0</td>\n",
       "      <td>1</td>\n",
       "      <td>6</td>\n",
       "      <td>NaN</td>\n",
       "      <td>2</td>\n",
       "      <td>2</td>\n",
       "      <td>1</td>\n",
       "    </tr>\n",
       "  </tbody>\n",
       "</table>\n",
       "</div>"
      ],
      "text/plain": [
       "  conmedic partyid  region  id  age  sex race degree\n",
       "0        1       3       1   1   65    2    1      1\n",
       "1        1       2       1   2   60    1    1      3\n",
       "2      NaN       0       2   3  NaN  NaN    1      0\n",
       "3        2       3       2   4  NaN  NaN    1      0\n",
       "4      NaN       0       1   6  NaN    2    2      1"
      ]
     },
     "execution_count": 127,
     "metadata": {},
     "output_type": "execute_result"
    }
   ],
   "source": [
    "df_2021_filtered.head()"
   ]
  },
  {
   "cell_type": "code",
   "execution_count": 128,
   "id": "25d8f0a6-d916-4b58-b0ba-9af270c0ad33",
   "metadata": {},
   "outputs": [],
   "source": [
    "df_2021_filtered['year'] = 2021"
   ]
  },
  {
   "cell_type": "code",
   "execution_count": 129,
   "id": "b95013b7-448a-4024-ab30-a0a2a22eeebb",
   "metadata": {},
   "outputs": [
    {
     "data": {
      "text/html": [
       "<div>\n",
       "<style scoped>\n",
       "    .dataframe tbody tr th:only-of-type {\n",
       "        vertical-align: middle;\n",
       "    }\n",
       "\n",
       "    .dataframe tbody tr th {\n",
       "        vertical-align: top;\n",
       "    }\n",
       "\n",
       "    .dataframe thead th {\n",
       "        text-align: right;\n",
       "    }\n",
       "</style>\n",
       "<table border=\"1\" class=\"dataframe\">\n",
       "  <thead>\n",
       "    <tr style=\"text-align: right;\">\n",
       "      <th></th>\n",
       "      <th>conmedic</th>\n",
       "      <th>partyid</th>\n",
       "      <th>region</th>\n",
       "      <th>id</th>\n",
       "      <th>age</th>\n",
       "      <th>sex</th>\n",
       "      <th>race</th>\n",
       "      <th>degree</th>\n",
       "      <th>year</th>\n",
       "    </tr>\n",
       "  </thead>\n",
       "  <tbody>\n",
       "    <tr>\n",
       "      <th>0</th>\n",
       "      <td>1</td>\n",
       "      <td>3</td>\n",
       "      <td>1</td>\n",
       "      <td>1</td>\n",
       "      <td>65</td>\n",
       "      <td>2</td>\n",
       "      <td>1</td>\n",
       "      <td>1</td>\n",
       "      <td>2021</td>\n",
       "    </tr>\n",
       "    <tr>\n",
       "      <th>1</th>\n",
       "      <td>1</td>\n",
       "      <td>2</td>\n",
       "      <td>1</td>\n",
       "      <td>2</td>\n",
       "      <td>60</td>\n",
       "      <td>1</td>\n",
       "      <td>1</td>\n",
       "      <td>3</td>\n",
       "      <td>2021</td>\n",
       "    </tr>\n",
       "    <tr>\n",
       "      <th>2</th>\n",
       "      <td>NaN</td>\n",
       "      <td>0</td>\n",
       "      <td>2</td>\n",
       "      <td>3</td>\n",
       "      <td>NaN</td>\n",
       "      <td>NaN</td>\n",
       "      <td>1</td>\n",
       "      <td>0</td>\n",
       "      <td>2021</td>\n",
       "    </tr>\n",
       "    <tr>\n",
       "      <th>3</th>\n",
       "      <td>2</td>\n",
       "      <td>3</td>\n",
       "      <td>2</td>\n",
       "      <td>4</td>\n",
       "      <td>NaN</td>\n",
       "      <td>NaN</td>\n",
       "      <td>1</td>\n",
       "      <td>0</td>\n",
       "      <td>2021</td>\n",
       "    </tr>\n",
       "    <tr>\n",
       "      <th>4</th>\n",
       "      <td>NaN</td>\n",
       "      <td>0</td>\n",
       "      <td>1</td>\n",
       "      <td>6</td>\n",
       "      <td>NaN</td>\n",
       "      <td>2</td>\n",
       "      <td>2</td>\n",
       "      <td>1</td>\n",
       "      <td>2021</td>\n",
       "    </tr>\n",
       "  </tbody>\n",
       "</table>\n",
       "</div>"
      ],
      "text/plain": [
       "  conmedic partyid  region  id  age  sex race degree  year\n",
       "0        1       3       1   1   65    2    1      1  2021\n",
       "1        1       2       1   2   60    1    1      3  2021\n",
       "2      NaN       0       2   3  NaN  NaN    1      0  2021\n",
       "3        2       3       2   4  NaN  NaN    1      0  2021\n",
       "4      NaN       0       1   6  NaN    2    2      1  2021"
      ]
     },
     "execution_count": 129,
     "metadata": {},
     "output_type": "execute_result"
    }
   ],
   "source": [
    "df_2021_filtered.head()"
   ]
  },
  {
   "cell_type": "code",
   "execution_count": 130,
   "id": "42c22ccb-21c7-488e-9b96-08613401e759",
   "metadata": {},
   "outputs": [],
   "source": [
    "complete_df = pd.concat([df_2018_filtered, df_2021_filtered], axis=0)"
   ]
  },
  {
   "cell_type": "code",
   "execution_count": 131,
   "id": "d8f3f2ef-828c-47c0-9979-89326ceac17c",
   "metadata": {},
   "outputs": [
    {
     "data": {
      "text/html": [
       "<div>\n",
       "<style scoped>\n",
       "    .dataframe tbody tr th:only-of-type {\n",
       "        vertical-align: middle;\n",
       "    }\n",
       "\n",
       "    .dataframe tbody tr th {\n",
       "        vertical-align: top;\n",
       "    }\n",
       "\n",
       "    .dataframe thead th {\n",
       "        text-align: right;\n",
       "    }\n",
       "</style>\n",
       "<table border=\"1\" class=\"dataframe\">\n",
       "  <thead>\n",
       "    <tr style=\"text-align: right;\">\n",
       "      <th></th>\n",
       "      <th>conmedic</th>\n",
       "      <th>partyid</th>\n",
       "      <th>region</th>\n",
       "      <th>id</th>\n",
       "      <th>age</th>\n",
       "      <th>sex</th>\n",
       "      <th>race</th>\n",
       "      <th>degree</th>\n",
       "      <th>year</th>\n",
       "    </tr>\n",
       "  </thead>\n",
       "  <tbody>\n",
       "    <tr>\n",
       "      <th>0</th>\n",
       "      <td>NaN</td>\n",
       "      <td>5</td>\n",
       "      <td>1</td>\n",
       "      <td>1</td>\n",
       "      <td>43</td>\n",
       "      <td>1</td>\n",
       "      <td>1</td>\n",
       "      <td>2</td>\n",
       "      <td>2018</td>\n",
       "    </tr>\n",
       "    <tr>\n",
       "      <th>1</th>\n",
       "      <td>1</td>\n",
       "      <td>2</td>\n",
       "      <td>1</td>\n",
       "      <td>2</td>\n",
       "      <td>74</td>\n",
       "      <td>2</td>\n",
       "      <td>1</td>\n",
       "      <td>1</td>\n",
       "      <td>2018</td>\n",
       "    </tr>\n",
       "    <tr>\n",
       "      <th>2</th>\n",
       "      <td>1</td>\n",
       "      <td>4</td>\n",
       "      <td>1</td>\n",
       "      <td>3</td>\n",
       "      <td>42</td>\n",
       "      <td>1</td>\n",
       "      <td>1</td>\n",
       "      <td>3</td>\n",
       "      <td>2018</td>\n",
       "    </tr>\n",
       "    <tr>\n",
       "      <th>3</th>\n",
       "      <td>3</td>\n",
       "      <td>2</td>\n",
       "      <td>1</td>\n",
       "      <td>4</td>\n",
       "      <td>63</td>\n",
       "      <td>2</td>\n",
       "      <td>1</td>\n",
       "      <td>3</td>\n",
       "      <td>2018</td>\n",
       "    </tr>\n",
       "    <tr>\n",
       "      <th>5</th>\n",
       "      <td>NaN</td>\n",
       "      <td>2</td>\n",
       "      <td>1</td>\n",
       "      <td>6</td>\n",
       "      <td>67</td>\n",
       "      <td>2</td>\n",
       "      <td>1</td>\n",
       "      <td>3</td>\n",
       "      <td>2018</td>\n",
       "    </tr>\n",
       "  </tbody>\n",
       "</table>\n",
       "</div>"
      ],
      "text/plain": [
       "  conmedic partyid  region  id age sex race degree  year\n",
       "0      NaN       5       1   1  43   1    1      2  2018\n",
       "1        1       2       1   2  74   2    1      1  2018\n",
       "2        1       4       1   3  42   1    1      3  2018\n",
       "3        3       2       1   4  63   2    1      3  2018\n",
       "5      NaN       2       1   6  67   2    1      3  2018"
      ]
     },
     "execution_count": 131,
     "metadata": {},
     "output_type": "execute_result"
    }
   ],
   "source": [
    "complete_df.head()"
   ]
  },
  {
   "cell_type": "code",
   "execution_count": 132,
   "id": "42d13f4c-8b7d-4c85-9dd1-ed8c6d149daa",
   "metadata": {},
   "outputs": [
    {
     "data": {
      "text/plain": [
       "(4272, 9)"
      ]
     },
     "execution_count": 132,
     "metadata": {},
     "output_type": "execute_result"
    }
   ],
   "source": [
    "complete_df.shape"
   ]
  },
  {
   "cell_type": "code",
   "execution_count": 133,
   "id": "8466534c-a80f-4f94-80e8-56ecb7bf81be",
   "metadata": {},
   "outputs": [],
   "source": [
    "complete_df.to_csv('../data/2018_v_2021_data.csv', index=False)"
   ]
  }
 ],
 "metadata": {
  "kernelspec": {
   "display_name": "Python 3 (ipykernel)",
   "language": "python",
   "name": "python3"
  },
  "language_info": {
   "codemirror_mode": {
    "name": "ipython",
    "version": 3
   },
   "file_extension": ".py",
   "mimetype": "text/x-python",
   "name": "python",
   "nbconvert_exporter": "python",
   "pygments_lexer": "ipython3",
   "version": "3.8.16"
  }
 },
 "nbformat": 4,
 "nbformat_minor": 5
}
